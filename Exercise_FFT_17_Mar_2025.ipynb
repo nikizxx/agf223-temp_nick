{
 "cells": [
  {
   "cell_type": "markdown",
   "id": "a4062c8a-38e2-4bb7-9144-0d1c0a29d770",
   "metadata": {},
   "source": [
    "# Time Series Data Analysis (FFT) Ex:"
   ]
  },
  {
   "cell_type": "code",
   "execution_count": 5,
   "id": "04947783-17f3-4fe3-a16b-15660f49b04e",
   "metadata": {
    "tags": []
   },
   "outputs": [],
   "source": [
    "# dependencies \n",
    "import numpy as np\n",
    "import matplotlib.pyplot as plt\n",
    "from scipy.fftpack import fft, ifft, fftfreq"
   ]
  },
  {
   "cell_type": "markdown",
   "id": "cebb39d4-a66b-44f0-acad-f421866e9dd1",
   "metadata": {},
   "source": [
    "# TAsk 1: Original signal (Target)"
   ]
  },
  {
   "cell_type": "raw",
   "id": "c27bdd87-1956-4981-97ff-c4eeaf2a2ec1",
   "metadata": {},
   "source": [
    "This is the original signal, that we will need to recover.\n",
    "We are going to assume it a sine wave with a particular period.\n",
    "Task: Generate a sine wave at frequency: f_original = 10 Hz, Amplitude: A_original = 1,  time range = 0, 1, at rate 1/1000\n",
    "time = np.linspace(0, 1, 1000)  # Time from 0 to 1, sample rate is 1/1000\n",
    "\n",
    "# sine wave signal as our target that we will need to recover\n",
    "\n",
    "original_signal = A_original * np.sin(2 * np.pi * f_original * time)\n",
    "\n",
    "# plot the signal\n",
    "\n",
    "plt.plot(time, original_signal, '-k')\n",
    "plt.xlabel(\"Time\")\n",
    "plt.ylabel(\"Amplitude\")\n",
    "plt.title(\"Original Sinusoidal Signal\")\n",
    "plt.grid()"
   ]
  },
  {
   "cell_type": "markdown",
   "id": "5be96d7f-2bbf-4cbf-882b-f3d59c4f2a9a",
   "metadata": {},
   "source": [
    "#  Task 2: Let original signal get mixed with three other signals at frequency "
   ]
  },
  {
   "cell_type": "raw",
   "id": "ac108934-e84b-4dcb-ba25-e8ea32ed4015",
   "metadata": {},
   "source": [
    "# let original signal get mixed with three other signals at frequency \n",
    "# f1: 5*f_original, f2: 10*f_original, f3: 7*f_original\n",
    "# For simplicity, assume the amplitudes to be the same as original signal.  \n",
    "# In practice, we may not know the source of these signals \n",
    "\n",
    "# Amplitudes \n",
    "A_2 = A_original\n",
    "A_3 = A_original \n",
    "A_4 = A_original\n",
    "\n",
    "# frequecies \n",
    "f_2 =  5*f_original\n",
    "f_3 =  10*f_original\n",
    "f_4 =  7*f_original\n",
    "\n",
    "# Other Signals \n",
    "signal_2 = A_2 * np.sin(2 * np.pi * f_2 * time)\n",
    "signal_3 = A_3 * np.sin(2 * np.pi * f_3 * time)\n",
    "signal_4 = A_4 * np.sin(2 * np.pi * f_4 * time)\n",
    "\n",
    "Task Plot these Signals on the same graph and for clarity limit the range to between 0 and 2 \n"
   ]
  },
  {
   "cell_type": "markdown",
   "id": "32b1313f-289a-4160-b0ed-d2270672390d",
   "metadata": {},
   "source": [
    "# Task 3: Original Signal gets distorted by other signal sources "
   ]
  },
  {
   "cell_type": "raw",
   "id": "988ccd0d-a0a1-4da0-b6e0-08725999b25e",
   "metadata": {},
   "source": [
    "# In practice we might not know the source of these Signals \n",
    "# add the other signals to the Original signal and plot the final signal\n",
    "\n",
    "siginal_sum = original_signal + signal_2 + signal_3 + signal_4 \n",
    "\n",
    "plt.plot(time,siginal_sum , '--k')\n",
    "plt.xlabel(\"Time\")\n",
    "plt.ylabel(\"Amplitude\")\n",
    "plt.title(\"Original Signal Distorted or Contaminated\")\n",
    "plt.grid()\n",
    "plt.show()"
   ]
  },
  {
   "cell_type": "markdown",
   "id": "3a1d9288-7ef3-43dd-8466-b14daf5e0e59",
   "metadata": {},
   "source": [
    "# Task: Add random noise"
   ]
  },
  {
   "cell_type": "raw",
   "id": "683f45ef-de5e-46c2-a619-4b68096d4a97",
   "metadata": {},
   "source": [
    "# We assume the noise follows a white noise model, meaning it has a zero mean.\n",
    "# The spread of the noise around its mean is determined by its variance or standard deviation (std), \n",
    "# where std = sqrt(variance).\n",
    "# Create Noise\n",
    "\n",
    "noise_mean = 0\n",
    "noise_std = 1.5\n",
    "noise = np.random.normal(noise_mean,noise_std, len(time))  # Noise with mean 0 and standard deviation 0.2\n",
    "\n",
    "Add this Noise to the signal and plot the result: \n"
   ]
  },
  {
   "cell_type": "markdown",
   "id": "03b61e25-7550-4902-8d3c-3f3981c537ff",
   "metadata": {
    "tags": []
   },
   "source": [
    "# Task: Add a DC offset to the signal "
   ]
  },
  {
   "cell_type": "raw",
   "id": "b0efe04c-16c6-48cb-80cd-f88fa833c735",
   "metadata": {},
   "source": [
    "# Add a DC(Or simply think of it as a background) offset to the signal \n",
    "\n",
    "dc_value = 5  # Adjust this value as needed\n",
    "DC = np.ones(time.size) # replicate just to one signle value\n",
    "final_siginal = DC + noisey_siginal\n",
    "\n",
    "# plot the results together with the noisy signal withouth the DC"
   ]
  },
  {
   "cell_type": "markdown",
   "id": "029d37d8-d34e-4099-98ec-59946a1d183f",
   "metadata": {
    "tags": []
   },
   "source": [
    "#                                             FFT \n",
    "## User-End Processing:\n",
    "## Question: Can We Successfully Recover the Original Signal?"
   ]
  },
  {
   "cell_type": "raw",
   "id": "65f2d748-a97a-48fc-b5e6-7225bc048aa8",
   "metadata": {
    "tags": []
   },
   "source": [
    "# Task: # Transfer the signal into the frequency domain using FFT: \n",
    "\n",
    "fft_signal = fft(final_siginal) # Compute the FFT\n",
    "\n",
    "# get the length of the signal \n",
    "length_signal = len(time)\n",
    "\n",
    "# Compute the frequency beans based n\n",
    "frequencies = fftfreq(len(time), (time[1] - time[0]))  # f = 1/T Compute frequency bins\n",
    "\n",
    "# remember FFT is symetric so we only take half of the spectrum representing the real part \n",
    "\n",
    "on_real = len(frequencies)//2 # Floor Division (Integer Division)\n",
    "\n",
    "# Plot the frequency vs the absolute value of your fft output \n",
    "\n",
    "plt.plot(frequencies[:on_real], np.abs(fft_signal[:on_real]), label=\"Original FFT\", color='b')\n",
    "\n",
    "plt.xlabel(\"Frequency\")\n",
    "plt.ylabel(\"Magnitude\")\n",
    "plt.title(\"Frequency Spectrum Before Filtering with DC\")\n",
    "plt.legend()\n",
    "plt.grid()\n",
    "# what do you observe and what can you observe at the frequece = 0 Hz ? "
   ]
  },
  {
   "cell_type": "markdown",
   "id": "e7f11363-cc3f-4acf-8272-7d0c8e36d4cf",
   "metadata": {
    "tags": []
   },
   "source": [
    "# Task: Remove the DC value"
   ]
  },
  {
   "cell_type": "raw",
   "id": "e2dbdeea-a55c-48eb-b037-d079b2d8cd4a",
   "metadata": {},
   "source": [
    "# Remove DC component before FFT and replot the fft spectrum of the centered data \n",
    "centered_signal = final_siginal - np.mean(final_siginal)\n",
    "\n",
    "fft_centered_signal = fft(centered_signal)  # Compute the FFT\n",
    "\n",
    "plt.plot(frequencies[:on_real ], np.abs(fft_centered_signal[:on_real]), label=\"Centered_signal_FFT\", color='b')\n",
    "plt.xlabel(\"Frequency\")\n",
    "plt.ylabel(\"Magnitude\")\n",
    "plt.title(\"Frequency spectrum after removing the DC value\")\n",
    "plt.legend()\n",
    "plt.grid()\n"
   ]
  },
  {
   "cell_type": "markdown",
   "id": "39e59273-11fb-4a1e-a327-56bdb2dc6228",
   "metadata": {
    "tags": []
   },
   "source": [
    "# Task: Extract the desired Signal "
   ]
  },
  {
   "cell_type": "raw",
   "id": "ea637a5e-90a6-4e5a-a3f3-9de47334cd54",
   "metadata": {},
   "source": [
    "fft_filtered = fft_centered_signal.copy() # lets get a copy before we mess things up by filtering \n",
    "filter_freq = f_original\n",
    "\n",
    "# creat a filter: there are better ways! \n",
    "filter_array = (np.abs(frequencies) > (filter_freq)) |  (np.abs(frequencies) < (filter_freq-.1))\n",
    "fft_filtered[filter_array] = 0  # Keep only low frequencies desired and set the rest to zero\n",
    "\n",
    "# plot the outcome \n",
    "plt.plot(frequencies[:on_real], np.abs(fft_filtered[:on_real]), label=\"Filtered FFT\", color='b')\n",
    "plt.xlabel(\"Frequency\")\n",
    "plt.ylabel(\"Magnitude\")\n",
    "plt.title(\"Frequency Spectrum after filtering\")\n",
    "plt.legend()\n",
    "plt.grid()"
   ]
  }
 ],
 "metadata": {
  "kernelspec": {
   "display_name": "Python 3 (ipykernel)",
   "language": "python",
   "name": "python3"
  },
  "language_info": {
   "codemirror_mode": {
    "name": "ipython",
    "version": 3
   },
   "file_extension": ".py",
   "mimetype": "text/x-python",
   "name": "python",
   "nbconvert_exporter": "python",
   "pygments_lexer": "ipython3",
   "version": "3.10.16"
  }
 },
 "nbformat": 4,
 "nbformat_minor": 5
}
